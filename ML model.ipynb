{
 "cells": [
  {
   "cell_type": "markdown",
   "metadata": {},
   "source": [
    "# Build the Machine Learning Model"
   ]
  },
  {
   "cell_type": "markdown",
   "metadata": {},
   "source": [
    "## Import Package"
   ]
  },
  {
   "cell_type": "code",
   "execution_count": 2,
   "metadata": {},
   "outputs": [
    {
     "name": "stdout",
     "output_type": "stream",
     "text": [
      "Collecting seaborn\n",
      "  Downloading seaborn-0.13.2-py3-none-any.whl (294 kB)\n",
      "\u001b[K     |████████████████████████████████| 294 kB 982 kB/s eta 0:00:01\n",
      "\u001b[?25hRequirement already satisfied: pandas>=1.2 in /Users/zhumanhui/Library/Python/3.10/lib/python/site-packages (from seaborn) (1.3.5)\n",
      "Requirement already satisfied: numpy!=1.24.0,>=1.20 in /Users/zhumanhui/Library/Python/3.10/lib/python/site-packages (from seaborn) (1.22.0)\n",
      "Requirement already satisfied: matplotlib!=3.6.1,>=3.4 in /Users/zhumanhui/Library/Python/3.10/lib/python/site-packages (from seaborn) (3.5.1)\n",
      "Requirement already satisfied: pyparsing>=2.2.1 in /Users/zhumanhui/Library/Python/3.10/lib/python/site-packages (from matplotlib!=3.6.1,>=3.4->seaborn) (3.0.6)\n",
      "Requirement already satisfied: python-dateutil>=2.7 in /Users/zhumanhui/Library/Python/3.10/lib/python/site-packages (from matplotlib!=3.6.1,>=3.4->seaborn) (2.8.2)\n",
      "Requirement already satisfied: fonttools>=4.22.0 in /Users/zhumanhui/Library/Python/3.10/lib/python/site-packages (from matplotlib!=3.6.1,>=3.4->seaborn) (4.28.5)\n",
      "Requirement already satisfied: kiwisolver>=1.0.1 in /Users/zhumanhui/Library/Python/3.10/lib/python/site-packages (from matplotlib!=3.6.1,>=3.4->seaborn) (1.3.2)\n",
      "Requirement already satisfied: cycler>=0.10 in /Users/zhumanhui/Library/Python/3.10/lib/python/site-packages (from matplotlib!=3.6.1,>=3.4->seaborn) (0.11.0)\n",
      "Requirement already satisfied: packaging>=20.0 in /Users/zhumanhui/Library/Python/3.10/lib/python/site-packages (from matplotlib!=3.6.1,>=3.4->seaborn) (21.3)\n",
      "Requirement already satisfied: pillow>=6.2.0 in /Users/zhumanhui/Library/Python/3.10/lib/python/site-packages (from matplotlib!=3.6.1,>=3.4->seaborn) (9.0.0)\n",
      "Requirement already satisfied: pytz>=2017.3 in /Users/zhumanhui/Library/Python/3.10/lib/python/site-packages (from pandas>=1.2->seaborn) (2021.3)\n",
      "Requirement already satisfied: six>=1.5 in /Users/zhumanhui/Library/Python/3.10/lib/python/site-packages (from python-dateutil>=2.7->matplotlib!=3.6.1,>=3.4->seaborn) (1.16.0)\n",
      "Installing collected packages: seaborn\n",
      "Successfully installed seaborn-0.13.2\n",
      "\u001b[33mWARNING: You are using pip version 21.2.4; however, version 24.0 is available.\n",
      "You should consider upgrading via the '/usr/local/bin/python3 -m pip install --upgrade pip' command.\u001b[0m\n",
      "Note: you may need to restart the kernel to use updated packages.\n",
      "Collecting scikit-learn\n",
      "  Downloading scikit_learn-1.5.0-cp310-cp310-macosx_10_9_x86_64.whl (12.1 MB)\n",
      "\u001b[K     |████████████████████████████████| 12.1 MB 8.7 MB/s eta 0:00:01\n",
      "\u001b[?25hCollecting threadpoolctl>=3.1.0\n",
      "  Downloading threadpoolctl-3.5.0-py3-none-any.whl (18 kB)\n",
      "Collecting scipy>=1.6.0\n",
      "  Downloading scipy-1.13.1-cp310-cp310-macosx_10_9_x86_64.whl (39.3 MB)\n",
      "\u001b[K     |████████████████████████████████| 39.3 MB 4.0 MB/s eta 0:00:01    |███▎                            | 4.0 MB 5.9 MB/s eta 0:00:06     |██████████████████              | 22.1 MB 4.8 MB/s eta 0:00:04\n",
      "\u001b[?25hRequirement already satisfied: numpy>=1.19.5 in /Users/zhumanhui/Library/Python/3.10/lib/python/site-packages (from scikit-learn) (1.22.0)\n",
      "Collecting joblib>=1.2.0\n",
      "  Downloading joblib-1.4.2-py3-none-any.whl (301 kB)\n",
      "\u001b[K     |████████████████████████████████| 301 kB 3.6 MB/s eta 0:00:01\n",
      "\u001b[?25hCollecting numpy>=1.19.5\n",
      "  Downloading numpy-1.26.4-cp310-cp310-macosx_10_9_x86_64.whl (20.6 MB)\n",
      "\u001b[K     |████████████████████████████████| 20.6 MB 2.4 MB/s eta 0:00:01    |█████████████                   | 8.4 MB 1.9 MB/s eta 0:00:07\n",
      "\u001b[?25hInstalling collected packages: numpy, threadpoolctl, scipy, joblib, scikit-learn\n",
      "  Attempting uninstall: numpy\n",
      "    Found existing installation: numpy 1.22.0\n",
      "    Uninstalling numpy-1.22.0:\n",
      "      Successfully uninstalled numpy-1.22.0\n",
      "Successfully installed joblib-1.4.2 numpy-1.26.4 scikit-learn-1.5.0 scipy-1.13.1 threadpoolctl-3.5.0\n",
      "\u001b[33mWARNING: You are using pip version 21.2.4; however, version 24.0 is available.\n",
      "You should consider upgrading via the '/usr/local/bin/python3 -m pip install --upgrade pip' command.\u001b[0m\n",
      "Note: you may need to restart the kernel to use updated packages.\n"
     ]
    }
   ],
   "source": [
    "%pip install seaborn\n",
    "%pip install -U scikit-learn"
   ]
  },
  {
   "cell_type": "code",
   "execution_count": 1,
   "metadata": {},
   "outputs": [],
   "source": [
    "import pandas as pd\n",
    "import numpy as np\n",
    "import seaborn as sns\n",
    "import matplotlib.pyplot as plt\n",
    "\n",
    "from sklearn.model_selection import train_test_split, GridSearchCV, KFold\n",
    "from sklearn.metrics import mean_squared_error, mean_absolute_error\n",
    "from sklearn.metrics import r2_score, accuracy_score\n",
    "\n",
    "from sklearn.ensemble import RandomForestRegressor"
   ]
  },
  {
   "cell_type": "markdown",
   "metadata": {},
   "source": [
    "## Data Preprocessing"
   ]
  },
  {
   "cell_type": "code",
   "execution_count": 2,
   "metadata": {},
   "outputs": [
    {
     "data": {
      "text/html": [
       "<div>\n",
       "<style scoped>\n",
       "    .dataframe tbody tr th:only-of-type {\n",
       "        vertical-align: middle;\n",
       "    }\n",
       "\n",
       "    .dataframe tbody tr th {\n",
       "        vertical-align: top;\n",
       "    }\n",
       "\n",
       "    .dataframe thead th {\n",
       "        text-align: right;\n",
       "    }\n",
       "</style>\n",
       "<table border=\"1\" class=\"dataframe\">\n",
       "  <thead>\n",
       "    <tr style=\"text-align: right;\">\n",
       "      <th></th>\n",
       "      <th>Unnamed: 0</th>\n",
       "      <th>Value</th>\n",
       "      <th>S</th>\n",
       "      <th>K</th>\n",
       "      <th>tau</th>\n",
       "      <th>r</th>\n",
       "      <th>BS</th>\n",
       "    </tr>\n",
       "  </thead>\n",
       "  <tbody>\n",
       "    <tr>\n",
       "      <th>0</th>\n",
       "      <td>1</td>\n",
       "      <td>348.500</td>\n",
       "      <td>1394.46</td>\n",
       "      <td>1050</td>\n",
       "      <td>0.128767</td>\n",
       "      <td>0.0116</td>\n",
       "      <td>Under</td>\n",
       "    </tr>\n",
       "    <tr>\n",
       "      <th>1</th>\n",
       "      <td>2</td>\n",
       "      <td>149.375</td>\n",
       "      <td>1432.25</td>\n",
       "      <td>1400</td>\n",
       "      <td>0.679452</td>\n",
       "      <td>0.0113</td>\n",
       "      <td>Under</td>\n",
       "    </tr>\n",
       "    <tr>\n",
       "      <th>2</th>\n",
       "      <td>3</td>\n",
       "      <td>294.500</td>\n",
       "      <td>1478.90</td>\n",
       "      <td>1225</td>\n",
       "      <td>0.443836</td>\n",
       "      <td>0.0112</td>\n",
       "      <td>Under</td>\n",
       "    </tr>\n",
       "    <tr>\n",
       "      <th>3</th>\n",
       "      <td>4</td>\n",
       "      <td>3.375</td>\n",
       "      <td>1369.89</td>\n",
       "      <td>1500</td>\n",
       "      <td>0.117808</td>\n",
       "      <td>0.0119</td>\n",
       "      <td>Over</td>\n",
       "    </tr>\n",
       "    <tr>\n",
       "      <th>4</th>\n",
       "      <td>5</td>\n",
       "      <td>84.000</td>\n",
       "      <td>1366.42</td>\n",
       "      <td>1350</td>\n",
       "      <td>0.298630</td>\n",
       "      <td>0.0119</td>\n",
       "      <td>Under</td>\n",
       "    </tr>\n",
       "  </tbody>\n",
       "</table>\n",
       "</div>"
      ],
      "text/plain": [
       "   Unnamed: 0    Value        S     K       tau       r     BS\n",
       "0           1  348.500  1394.46  1050  0.128767  0.0116  Under\n",
       "1           2  149.375  1432.25  1400  0.679452  0.0113  Under\n",
       "2           3  294.500  1478.90  1225  0.443836  0.0112  Under\n",
       "3           4    3.375  1369.89  1500  0.117808  0.0119   Over\n",
       "4           5   84.000  1366.42  1350  0.298630  0.0119  Under"
      ]
     },
     "execution_count": 2,
     "metadata": {},
     "output_type": "execute_result"
    }
   ],
   "source": [
    "option = pd.read_csv('option_data.csv')\n",
    "option.head()"
   ]
  },
  {
   "cell_type": "code",
   "execution_count": 4,
   "metadata": {},
   "outputs": [
    {
     "name": "stdout",
     "output_type": "stream",
     "text": [
      "<class 'pandas.core.frame.DataFrame'>\n",
      "RangeIndex: 5000 entries, 0 to 4999\n",
      "Data columns (total 7 columns):\n",
      " #   Column      Non-Null Count  Dtype  \n",
      "---  ------      --------------  -----  \n",
      " 0   Unnamed: 0  5000 non-null   int64  \n",
      " 1   Value       5000 non-null   float64\n",
      " 2   S           5000 non-null   float64\n",
      " 3   K           5000 non-null   int64  \n",
      " 4   tau         5000 non-null   float64\n",
      " 5   r           5000 non-null   float64\n",
      " 6   BS          5000 non-null   object \n",
      "dtypes: float64(4), int64(2), object(1)\n",
      "memory usage: 273.6+ KB\n"
     ]
    }
   ],
   "source": [
    "option.info()"
   ]
  },
  {
   "cell_type": "code",
   "execution_count": 3,
   "metadata": {},
   "outputs": [
    {
     "data": {
      "text/plain": [
       "Unnamed: 0    0\n",
       "Value         0\n",
       "S             0\n",
       "K             0\n",
       "tau           0\n",
       "r             0\n",
       "BS            0\n",
       "dtype: int64"
      ]
     },
     "execution_count": 3,
     "metadata": {},
     "output_type": "execute_result"
    }
   ],
   "source": [
    "option.isnull().sum()"
   ]
  },
  {
   "cell_type": "code",
   "execution_count": 4,
   "metadata": {},
   "outputs": [
    {
     "data": {
      "text/plain": [
       "(5000, 6)"
      ]
     },
     "execution_count": 4,
     "metadata": {},
     "output_type": "execute_result"
    }
   ],
   "source": [
    "option = option.drop(columns = ['Unnamed: 0'])\n",
    "option.shape"
   ]
  },
  {
   "cell_type": "code",
   "execution_count": 6,
   "metadata": {},
   "outputs": [],
   "source": [
    "X = option.drop(columns = ['Value', 'BS'])\n",
    "y = option['Value']\n",
    "\n",
    "re_X_train, re_X_test, re_y_train, re_y_test = train_test_split(X, y,\n",
    "                                                    test_size=0.2, random_state=42)"
   ]
  },
  {
   "cell_type": "code",
   "execution_count": 7,
   "metadata": {},
   "outputs": [
    {
     "data": {
      "text/plain": [
       "(4000, 4)"
      ]
     },
     "execution_count": 7,
     "metadata": {},
     "output_type": "execute_result"
    }
   ],
   "source": [
    "re_X_train.shape"
   ]
  },
  {
   "cell_type": "code",
   "execution_count": 8,
   "metadata": {},
   "outputs": [
    {
     "data": {
      "image/png": "[encoded data removed]",
      "text/plain": [
       "<Figure size 576x432 with 2 Axes>"
      ]
     },
     "metadata": {
      "needs_background": "light"
     },
     "output_type": "display_data"
    }
   ],
   "source": [
    "correlation_matrix = re_X_train.corr()\n",
    "\n",
    "# Visualize the correlation matrix as a heatmap\n",
    "plt.figure(figsize=(8, 6))\n",
    "sns.heatmap(correlation_matrix, annot=True, cmap='coolwarm', fmt=\".2f\", linewidths=0.5)\n",
    "plt.title('Correlation Matrix of Predictors')\n",
    "plt.show()"
   ]
  },
  {
   "cell_type": "markdown",
   "metadata": {},
   "source": [
    "## Build the Model"
   ]
  },
  {
   "cell_type": "code",
   "execution_count": 9,
   "metadata": {},
   "outputs": [
    {
     "data": {
      "text/html": [
       "<div>\n",
       "<style scoped>\n",
       "    .dataframe tbody tr th:only-of-type {\n",
       "        vertical-align: middle;\n",
       "    }\n",
       "\n",
       "    .dataframe tbody tr th {\n",
       "        vertical-align: top;\n",
       "    }\n",
       "\n",
       "    .dataframe thead th {\n",
       "        text-align: right;\n",
       "    }\n",
       "</style>\n",
       "<table border=\"1\" class=\"dataframe\">\n",
       "  <thead>\n",
       "    <tr style=\"text-align: right;\">\n",
       "      <th></th>\n",
       "      <th>S</th>\n",
       "      <th>K</th>\n",
       "      <th>tau</th>\n",
       "      <th>r</th>\n",
       "      <th>Value</th>\n",
       "      <th>Predicted_Value</th>\n",
       "    </tr>\n",
       "  </thead>\n",
       "  <tbody>\n",
       "    <tr>\n",
       "      <th>1501</th>\n",
       "      <td>1401.44</td>\n",
       "      <td>1625</td>\n",
       "      <td>0.090411</td>\n",
       "      <td>0.0116</td>\n",
       "      <td>1.000</td>\n",
       "      <td>1.4550</td>\n",
       "    </tr>\n",
       "    <tr>\n",
       "      <th>2586</th>\n",
       "      <td>1527.46</td>\n",
       "      <td>1350</td>\n",
       "      <td>0.232877</td>\n",
       "      <td>0.0106</td>\n",
       "      <td>224.000</td>\n",
       "      <td>219.4900</td>\n",
       "    </tr>\n",
       "    <tr>\n",
       "      <th>2653</th>\n",
       "      <td>1329.78</td>\n",
       "      <td>1300</td>\n",
       "      <td>0.676712</td>\n",
       "      <td>0.0123</td>\n",
       "      <td>147.625</td>\n",
       "      <td>154.8975</td>\n",
       "    </tr>\n",
       "    <tr>\n",
       "      <th>1055</th>\n",
       "      <td>1424.24</td>\n",
       "      <td>1375</td>\n",
       "      <td>0.358904</td>\n",
       "      <td>0.0114</td>\n",
       "      <td>116.000</td>\n",
       "      <td>120.9100</td>\n",
       "    </tr>\n",
       "    <tr>\n",
       "      <th>705</th>\n",
       "      <td>1341.93</td>\n",
       "      <td>1200</td>\n",
       "      <td>0.295890</td>\n",
       "      <td>0.0122</td>\n",
       "      <td>174.375</td>\n",
       "      <td>169.4900</td>\n",
       "    </tr>\n",
       "  </tbody>\n",
       "</table>\n",
       "</div>"
      ],
      "text/plain": [
       "            S     K       tau       r    Value  Predicted_Value\n",
       "1501  1401.44  1625  0.090411  0.0116    1.000           1.4550\n",
       "2586  1527.46  1350  0.232877  0.0106  224.000         219.4900\n",
       "2653  1329.78  1300  0.676712  0.0123  147.625         154.8975\n",
       "1055  1424.24  1375  0.358904  0.0114  116.000         120.9100\n",
       "705   1341.93  1200  0.295890  0.0122  174.375         169.4900"
      ]
     },
     "execution_count": 9,
     "metadata": {},
     "output_type": "execute_result"
    }
   ],
   "source": [
    "random_forest_regressor = RandomForestRegressor(n_estimators=50, random_state=42)\n",
    "\n",
    "# Fit the Random Forest regressor to the training data\n",
    "random_forest_regressor.fit(re_X_train, re_y_train)\n",
    "\n",
    "# Predict on the testing set\n",
    "predictions = random_forest_regressor.predict(re_X_test)\n",
    "\n",
    "# result table\n",
    "result = re_X_test\n",
    "result['Value'] = re_y_test\n",
    "result['Predicted_Value'] = predictions.tolist()\n",
    "result.head()"
   ]
  },
  {
   "cell_type": "code",
   "execution_count": 10,
   "metadata": {},
   "outputs": [
    {
     "name": "stdout",
     "output_type": "stream",
     "text": [
      "Mean Squared Error:  55.937986762109375\n",
      "R-squared (Random Forest): 0.9964970515427147\n"
     ]
    }
   ],
   "source": [
    "# Calculate evaluation metrics\n",
    "rf_mse = mean_squared_error(re_y_test, predictions)\n",
    "print(\"Mean Squared Error: \", rf_mse)\n",
    "\n",
    "rf_r2 = r2_score(re_y_test, predictions)\n",
    "print(\"R-squared (Random Forest):\", rf_r2)"
   ]
  },
  {
   "cell_type": "markdown",
   "metadata": {},
   "source": [
    "## Save the model"
   ]
  },
  {
   "cell_type": "code",
   "execution_count": 11,
   "metadata": {},
   "outputs": [],
   "source": [
    "import pickle"
   ]
  },
  {
   "cell_type": "code",
   "execution_count": 12,
   "metadata": {},
   "outputs": [],
   "source": [
    "pickle.dump(random_forest_regressor, open('model.pkl', 'wb'))"
   ]
  }
 ],
 "metadata": {
  "interpreter": {
   "hash": "aee8b7b246df8f9039afb4144a1f6fd8d2ca17a180786b69acc140d282b71a49"
  },
  "kernelspec": {
   "display_name": "Python 3.10.1 64-bit",
   "language": "python",
   "name": "python3"
  },
  "language_info": {
   "codemirror_mode": {
    "name": "ipython",
    "version": 3
   },
   "file_extension": ".py",
   "mimetype": "text/x-python",
   "name": "python",
   "nbconvert_exporter": "python",
   "pygments_lexer": "ipython3",
   "version": "3.10.1"
  },
  "orig_nbformat": 4
 },
 "nbformat": 4,
 "nbformat_minor": 2
}
